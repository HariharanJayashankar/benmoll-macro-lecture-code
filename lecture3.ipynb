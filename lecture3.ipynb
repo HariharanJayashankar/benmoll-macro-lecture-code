{
 "cells": [
  {
   "cell_type": "markdown",
   "metadata": {},
   "source": [
    "# Lecture 3 - HJB Equations\n",
    "\n",
    "This follows the lecture notes produced by Ben Moll. Particularly the [third lecture](https://benjaminmoll.com/wp-content/uploads/2019/07/Lecture3_2149.pdf) under \"Distributional Macroeconomcis\".\n",
    "\n",
    "The HJB for a neoclassical growth model can be represented as:\n",
    "\n",
    "$$\n",
    "\\rho v(k) = \\max_c u(c) + v'(k)(F(k) - \\delta k - c)\n",
    "$$\n",
    "\n",
    "We use functional forms $F(k) = k^\\alpha$ and $u(c) = \\frac{c^{- \\sigma}}{1 - \\sigma}$\n",
    "\n",
    "# Finite Differences\n",
    "\n",
    "Approximate $v(k)$ at $I$ discrete points in the state space $k$. We get $k_i$ for $i = 1, 2, 3... I$. Distance between two points is $\\Delta k$\n",
    "\n",
    "Short hand notation: $v_i = v(k_i)$\n",
    "\n",
    "The finite difference version of the HJB is:\n",
    "\n",
    "$$\n",
    "\\rho v_i = \\max_c u(c_i) + v'_i (F(k_i) - \\delta k_i - c_i)\n",
    "$$\n",
    "\n",
    "Where $c_i = (u')^{-1}(v_i)$.\n",
    "\n",
    "$v'_i$ is one of backward, forward or central FD approximations.\n",
    "\n",
    "$$\n",
    "v'_i \\approx \\frac{v_i - v_{i-1}}{\\Delta k} = v'_{i, B} \\tag{backward}\n",
    "$$\n",
    "\n",
    "$$\n",
    "v'_i \\approx \\frac{v_{i+1} - v}{\\Delta k} = v'_{i, F} \\tag{forward}\n",
    "$$\n",
    "\n",
    "$$\n",
    "v'_i \\approx \\frac{v_{i+1} - v_{i-1}}{2 \\Delta k} = v'_{i, C} \\tag{central}\n",
    "$$"
   ]
  },
  {
   "cell_type": "code",
   "execution_count": 1,
   "metadata": {},
   "outputs": [
    {
     "name": "stderr",
     "output_type": "stream",
     "text": [
      "\u001b[32m\u001b[1m Activating\u001b[22m\u001b[39m environment at `C:\\Users\\Hariharan\\Documents\\git_repos\\ben_moll_lecture_code\\Project.toml`\n"
     ]
    }
   ],
   "source": [
    "] activate ."
   ]
  },
  {
   "cell_type": "code",
   "execution_count": 2,
   "metadata": {},
   "outputs": [],
   "source": [
    "using LinearAlgebra, Parameters, Plots"
   ]
  }
 ],
 "metadata": {
  "kernelspec": {
   "display_name": "Julia 1.4.0",
   "language": "julia",
   "name": "julia-1.4"
  },
  "language_info": {
   "file_extension": ".jl",
   "mimetype": "application/julia",
   "name": "julia",
   "version": "1.4.0"
  }
 },
 "nbformat": 4,
 "nbformat_minor": 4
}
