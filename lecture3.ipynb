{
 "cells": [
  {
   "cell_type": "markdown",
   "metadata": {},
   "source": [
    "# Lecture 3 - HJB Equations\n",
    "\n",
    "This follows the lecture notes produced by Ben Moll. Particularly the [third lecture](https://benjaminmoll.com/wp-content/uploads/2019/07/Lecture3_2149.pdf) under \"Distributional Macroeconomcis\".\n",
    "\n",
    "The HJB for a neoclassical growth model can be represented as:\n",
    "\n",
    "$$\n",
    "\\rho v(k) = \\max_c u(c) + v'(k)(F(k) - \\delta k - c)\n",
    "$$\n",
    "\n",
    "We use functional forms $F(k) = k^\\alpha$ and $u(c) = \\frac{c^{- \\sigma}}{1 - \\sigma}$\n",
    "\n",
    "# Finite Differences\n",
    "\n",
    "Approximate $v(k)$ at $I$ discrete points in the state space $k$. We get $k_i$ for $i = 1, 2, 3... I$. Distance between two points is $\\Delta k$\n",
    "\n",
    "Short hand notation: $v_i = v(k_i)$\n",
    "\n",
    "The finite difference version of the HJB is:\n",
    "\n",
    "$$\n",
    "\\rho v_i = \\max_c u(c_i) + v'_i (F(k_i) - \\delta k_i - c_i)\n",
    "$$\n",
    "\n",
    "Where $c_i = (u')^{-1}(v_i)$.\n",
    "\n",
    "$v'_i$ is one of backward, forward or central FD approximations.\n",
    "\n",
    "$$\n",
    "v'_i \\approx \\frac{v_i - v_{i-1}}{\\Delta k} = v'_{i, B} \\tag{backward}\n",
    "$$\n",
    "\n",
    "$$\n",
    "v'_i \\approx \\frac{v_{i+1} - v}{\\Delta k} = v'_{i, F} \\tag{forward}\n",
    "$$\n",
    "\n",
    "$$\n",
    "v'_i \\approx \\frac{v_{i+1} - v_{i-1}}{2 \\Delta k} = v'_{i, C} \\tag{central}\n",
    "$$"
   ]
  },
  {
   "cell_type": "code",
   "execution_count": 1,
   "metadata": {},
   "outputs": [
    {
     "name": "stderr",
     "output_type": "stream",
     "text": [
      "\u001b[32m\u001b[1m Activating\u001b[22m\u001b[39m environment at `C:\\Users\\Hariharan\\Documents\\git_repos\\ben_moll_lecture_code\\Project.toml`\n"
     ]
    }
   ],
   "source": [
    "] activate ."
   ]
  },
  {
   "cell_type": "code",
   "execution_count": 2,
   "metadata": {},
   "outputs": [],
   "source": [
    "using LinearAlgebra, Parameters, Plots"
   ]
  },
  {
   "cell_type": "code",
   "execution_count": 13,
   "metadata": {},
   "outputs": [
    {
     "data": {
      "text/plain": [
       "cstar (generic function with 5 methods)"
      ]
     },
     "execution_count": 13,
     "metadata": {},
     "output_type": "execute_result"
    }
   ],
   "source": [
    "# Storing parameters\n",
    "opgrowth = @with_kw (α = 0.3, \n",
    "    A = 1, σ = 2, ρ = 0.05, \n",
    "    δ = 0.05, I = 150)\n",
    "\n",
    "function u(c, σ = 2.0)\n",
    "    # CRRA utility\n",
    "   \n",
    "    if σ == zero(σ)\n",
    "        u = log(c)\n",
    "    else\n",
    "        u = (c^(1 - σ))/(1 - σ)\n",
    "    end\n",
    "    \n",
    "    return u\n",
    "end\n",
    "\n",
    "function udash_inv(x, σ = 2.0)\n",
    "    # Inverse of the derivative\n",
    "    # of CRRA\n",
    "    \n",
    "    udash_inv = x^(-1/σ)\n",
    "    \n",
    "    return udash_inv\n",
    "end\n",
    "\n",
    "# Some nice formulas based on parameters\n",
    "F(k, α = 0.3, A = 1.0) = A*k^α\n",
    "Fdash(k, α = 0.3, A = 1.0) = A * α * k ^ (α - 1)\n",
    "kstar(α = 0.3, A = 1.0, ρ = 0.05, δ = 0.05) = (α * A/(ρ + δ))^(1/(1-α))\n",
    "cstar(α = 0.3, A = 1.0, ρ = 0.05, δ = 0.05) = F(kstar(α, A, ρ, δ), α, A) - δ * kstar(α, A, ρ, δ)"
   ]
  },
  {
   "cell_type": "code",
   "execution_count": 10,
   "metadata": {},
   "outputs": [
    {
     "data": {
      "text/plain": [
       "bdiff (generic function with 1 method)"
      ]
     },
     "execution_count": 10,
     "metadata": {},
     "output_type": "execute_result"
    }
   ],
   "source": [
    "# Defining forward and backward difference functions\n",
    "function fdiff(x)\n",
    "    #==\n",
    "    Forward difference\n",
    "    x is an array\n",
    "    ==#\n",
    "    \n",
    "    # initialize array\n",
    "    fdiffx = zero(x)\n",
    "    fdiffx[1:end-1] = x[2:end] - x[1:end - 1]\n",
    "    \n",
    "    return fdiffx\n",
    "end\n",
    "\n",
    "function bdiff(x)\n",
    "    #==\n",
    "    Backward difference\n",
    "    x is an array\n",
    "    ==#\n",
    "    \n",
    "    # initialize array\n",
    "    bdiffx = zero(x)\n",
    "    bdiffx[2:end] = x[2:end] - x[1:end - 1]\n",
    "    \n",
    "    return bdiffx\n",
    "end"
   ]
  },
  {
   "cell_type": "markdown",
   "metadata": {},
   "source": [
    "# Iterative Method / Value Function Iteration\n",
    "\n",
    "As per the lecture slides, we first go over solving the problem with the \"explicit\" iteration method. It looks very similar to the simple value function iteration method one does when solving dynamic programming problems in discrete time.\n",
    "\n",
    "Update $v^n$ to $v^{n+1}$ according to:\n",
    "$$\n",
    "\\frac{}{}\n",
    "$$"
   ]
  },
  {
   "cell_type": "code",
   "execution_count": null,
   "metadata": {},
   "outputs": [],
   "source": [
    "function vupdate(v, params)\n",
    "    #==\n",
    "    Updates the value function by one step\n",
    "    ==#\n",
    "    \n",
    "    \n",
    "    \n",
    "end"
   ]
  },
  {
   "cell_type": "code",
   "execution_count": null,
   "metadata": {},
   "outputs": [],
   "source": [
    "function viter(params, maxiter = 1000, tol = 1e-6)\n",
    "    \n",
    "    #==\n",
    "    Solves the HJB equation using the explicit/normal\n",
    "    value function iteration\n",
    "    ==#\n",
    "    \n",
    "    \n",
    "end"
   ]
  }
 ],
 "metadata": {
  "kernelspec": {
   "display_name": "Julia 1.4.0",
   "language": "julia",
   "name": "julia-1.4"
  },
  "language_info": {
   "file_extension": ".jl",
   "mimetype": "application/julia",
   "name": "julia",
   "version": "1.4.0"
  }
 },
 "nbformat": 4,
 "nbformat_minor": 4
}
